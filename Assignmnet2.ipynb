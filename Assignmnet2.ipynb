{
 "cells": [
  {
   "cell_type": "code",
   "execution_count": 1,
   "id": "b0f8c42a-c14f-4a94-8f65-656f6a40fc69",
   "metadata": {},
   "outputs": [],
   "source": [
    "# #Write a Python program that takes the age of a person as input and classifies them into one of the\n",
    "# following age groups:\n",
    "# Child&quot; if the age is between 0 and 12 (inclusive).\n",
    "# Teenager&quot; if the age is between 13 and 19 (inclusive).\n",
    "# Adult&quot; if the age is between 20 and 64 (inclusive).\n",
    "#Senior&quot; if the age is 65 or older.\n"
   ]
  },
  {
   "cell_type": "code",
   "execution_count": null,
   "id": "80c8ef58-fb28-447b-9930-7038478a1dda",
   "metadata": {},
   "outputs": [],
   "source": [
    "#1 answer\n",
    "a = int(input('Enter the age: '))\n",
    "\n",
    "if a >= 0 and a <= 12:\n",
    "    print(\"He is a child\")\n",
    "elif a >= 13 and a <= 19:\n",
    "    print(\"He is a teenager\")\n",
    "elif a >= 20 and a <= 64:\n",
    "    print(\"He is an adult\")\n",
    "else:\n",
    "    print(\"He is a senior\")"
   ]
  },
  {
   "cell_type": "code",
   "execution_count": null,
   "id": "fed5306e-485e-427e-a2ac-8d96dedf2300",
   "metadata": {},
   "outputs": [],
   "source": [
    "# Write a Python program that determines if a customer is eligible for a discount. The program should\n",
    "# take the customer&#39;s membership status and purchase amount as input and check the following\n",
    "# conditions:\n",
    "# The customer is a &quot;premium&quot; member and the purchase amount is greater than or equal to 1000.\n",
    "# The customer is a &quot;regular&quot; member and the purchase amount is greater than or equal to 2000.\n",
    "# If the customer meets either of the above conditions, print &quot;Eligible for discount&quot;, otherwise print\n",
    "# &quot;Not eligible for discount&quot;."
   ]
  },
  {
   "cell_type": "code",
   "execution_count": null,
   "id": "3ed11b61-b31e-440a-8655-b92ab1ae11b4",
   "metadata": {},
   "outputs": [],
   "source": [
    "#2 \n",
    "a = int(input(\"Enter the purchase amount please\"))\n",
    "\n",
    "if  a >= 10001:\n",
    "    print(\" he is our premium amout holder\")\n",
    "elif  a >= 2001:\n",
    "    print(\"he is regular customer\")\n",
    "elif  a >= 800:\n",
    "    print(\"he is not our requirement\")\n",
    "else:\n",
    "    print(\"not eligible for the discount he is idiot\")"
   ]
  },
  {
   "cell_type": "code",
   "execution_count": null,
   "id": "fb46fe8a-9165-438c-ac52-4a5045644f71",
   "metadata": {},
   "outputs": [],
   "source": [
    "# Question 3: Voting Eligibility Check\n",
    "# Write a Python program that checks if a person is eligible to vote based on their age and citizenship\n",
    "# status. The program should take the following inputs:\n",
    "# Age (an integer).\n",
    "# Citizenship status (a string: either &quot;citizen&quot; or &quot;non-citizen&quot;).\n",
    "\n",
    "# The eligibility conditions are:\n",
    "# The person must be at least 18 years old and a &quot;citizen&quot; to be eligible to vote.\n",
    "# Alternatively, the person can be at least 16 years old and a &quot;citizen&quot; of a special region where voting is\n",
    "# allowed from age 16.\n",
    "\n",
    "# If the person meets either of the conditions, print &quot;Eligible to vote&quot;, otherwise print &quot;Not eligible to\n",
    "# vote&quot;.\n"
   ]
  },
  {
   "cell_type": "code",
   "execution_count": null,
   "id": "bc945844-20f3-469c-b6ed-daa5e12c2276",
   "metadata": {},
   "outputs": [],
   "source": [
    "#3 \n",
    "age = int(input(\"Please enter the age: \"))\n",
    "citizen = input(\"Enter your citizenship (citizen / citizen of special region): \")\n",
    "# yeah hum is lea use kartea ek bhea condition sahi hoe allow kartea ha \n",
    "if (age >= 16 and citizen == \"special region\") or (age <= 18  and citizen == \"citizen\"):\n",
    "    print (\" eligibe fro vote\")\n",
    "else:\n",
    "    print(\"you're not eligible for vote\")\n",
    "    \n",
    "\n"
   ]
  },
  {
   "cell_type": "code",
   "execution_count": null,
   "id": "b0e2c94c-b005-4900-a3fa-a899f43f197d",
   "metadata": {},
   "outputs": [],
   "source": [
    "#4 bonus\n",
    "rating = \"Excellent\"\n",
    "service = 1\n",
    "\n",
    "if rating == 'Excellent' and service >= 5:\n",
    "    print (\"eligible for bonus\")\n",
    "elif rating == 'Good' and service >= 10:\n",
    "    print (\"eligible for bonus\")\n",
    "elif rating == 'Satisfactory' and service >= 15:\n",
    "    print(\"eligible fro bonus\")\n",
    "else:\n",
    "    print(\"you are not eligible for bonus idiot\")\n"
   ]
  },
  {
   "cell_type": "code",
   "execution_count": null,
   "id": "2a2b0f20-9d72-4329-a195-61509a369b73",
   "metadata": {},
   "outputs": [],
   "source": [
    "rating = input(\"please tell your KPI: \")\n",
    "Service = int(input(\"Service year btao plz: \"))\n",
    "\n",
    "if rating == 'Excellent' and Service >= 5:\n",
    "    print (\"eligible for bonus\")\n",
    "elif rating == 'Good' and Service >= 9 and service <= 10:\n",
    "    print (\"eligible for bonus\")\n",
    "elif rating == 'Satisfactory' and Service >= 15:\n",
    "    print(\"eligible fro bonus\")\n",
    "else:\n",
    "    print(\"you are not eligible for bonus idiot\")\n",
    "\n"
   ]
  },
  {
   "cell_type": "code",
   "execution_count": 8,
   "id": "74855a42-57d0-4051-bcff-3a8744538325",
   "metadata": {},
   "outputs": [
    {
     "data": {
      "text/plain": [
       "['SKU-12345', '']"
      ]
     },
     "execution_count": 8,
     "metadata": {},
     "output_type": "execute_result"
    }
   ],
   "source": [
    "#8\n",
    "'SKU-12345-XYZ'.split('-XYZ')"
   ]
  },
  {
   "cell_type": "code",
   "execution_count": 9,
   "id": "4013ea56-647a-4f35-8429-c64240ed4b24",
   "metadata": {},
   "outputs": [
    {
     "data": {
      "text/plain": [
       "['', '12345']"
      ]
     },
     "execution_count": 9,
     "metadata": {},
     "output_type": "execute_result"
    }
   ],
   "source": [
    "'SKU-12345'.split('SKU-')"
   ]
  },
  {
   "cell_type": "code",
   "execution_count": 10,
   "id": "5a5ce548-e3ca-4e6b-9559-da065be7543a",
   "metadata": {},
   "outputs": [
    {
     "name": "stdin",
     "output_type": "stream",
     "text": [
      "please enter the alphabet i am learning data analyts\n"
     ]
    },
    {
     "name": "stdout",
     "output_type": "stream",
     "text": [
      "result will be last 3 remove i am learning data anal\n",
      "result will be last 2 remove i am learning data analy\n",
      "result will be last 1 remove i am learning data analyt\n"
     ]
    }
   ],
   "source": [
    "#6\n",
    "name = input(\"please enter the alphabet\")\n",
    "print(\"result will be last 3 remove\", name[:-3])\n",
    "print(\"result will be last 2 remove\", name[:-2])\n",
    "print(\"result will be last 1 remove\", name[:-1])"
   ]
  },
  {
   "cell_type": "code",
   "execution_count": 18,
   "id": "039d0cdf-4c77-4506-8302-cd935755717d",
   "metadata": {},
   "outputs": [
    {
     "name": "stdin",
     "output_type": "stream",
     "text": [
      "please enter the alphabet Hello World, We are learning Python\n"
     ]
    },
    {
     "name": "stdout",
     "output_type": "stream",
     "text": [
      "her is the reverse answer: nohtyP gninrael era eW ,dlroW olleH\n"
     ]
    }
   ],
   "source": [
    "#7\n",
    "reverse = input(\"please enter the alphabet\")\n",
    "print(\"her is the reverse answer:\", reverse[::-1])\n"
   ]
  },
  {
   "cell_type": "code",
   "execution_count": 1,
   "id": "0ac6d4c5-361a-4240-a530-84cd6f0e3467",
   "metadata": {},
   "outputs": [
    {
     "name": "stdin",
     "output_type": "stream",
     "text": [
      "Enter your password:  %\n"
     ]
    },
    {
     "name": "stdout",
     "output_type": "stream",
     "text": [
      "Uppercase: False\n",
      "Lowercase: False\n",
      "Spaces: False\n",
      "Special chars: True\n"
     ]
    }
   ],
   "source": [
    "#9\n",
    "\n",
    "\n",
    "password = input(\"Enter your password: \")\n",
    "\n",
    "print(\"Uppercase:\", any(c.isupper() for c in password))\n",
    "print(\"Lowercase:\", any(c.islower() for c in password))\n",
    "print(\"Spaces:\", \" \" in password)\n",
    "print(\"Special chars:\", not password.isalnum())\n",
    "\n"
   ]
  },
  {
   "cell_type": "code",
   "execution_count": null,
   "id": "91f2368b-a54b-4984-81ae-f470aa776378",
   "metadata": {},
   "outputs": [],
   "source": []
  },
  {
   "cell_type": "code",
   "execution_count": null,
   "id": "bb7c4e66-4b12-49e8-bad1-f47861560d35",
   "metadata": {},
   "outputs": [],
   "source": []
  },
  {
   "cell_type": "code",
   "execution_count": null,
   "id": "3c83ab8b-c41a-4b62-b4ff-ad5f698cc256",
   "metadata": {},
   "outputs": [],
   "source": []
  },
  {
   "cell_type": "code",
   "execution_count": null,
   "id": "4ce711ed-01f0-4b92-a203-433f209c20c2",
   "metadata": {},
   "outputs": [],
   "source": []
  },
  {
   "cell_type": "code",
   "execution_count": null,
   "id": "3bcfef8d-2ddb-4c5a-b475-8af25d23b262",
   "metadata": {},
   "outputs": [],
   "source": []
  },
  {
   "cell_type": "code",
   "execution_count": null,
   "id": "5c42739d-a656-46e3-9653-9af8771c66a4",
   "metadata": {},
   "outputs": [],
   "source": []
  },
  {
   "cell_type": "code",
   "execution_count": null,
   "id": "2104b21f-be0c-41d3-bc33-a6a6309fbd47",
   "metadata": {},
   "outputs": [],
   "source": []
  },
  {
   "cell_type": "code",
   "execution_count": null,
   "id": "9c9367d0-0679-4c13-8dde-b3771213f321",
   "metadata": {},
   "outputs": [],
   "source": []
  },
  {
   "cell_type": "code",
   "execution_count": null,
   "id": "caf1c3cf-78b8-451f-8385-86760fdc0854",
   "metadata": {},
   "outputs": [],
   "source": []
  },
  {
   "cell_type": "code",
   "execution_count": null,
   "id": "3449517e-b57a-4eba-90c2-e4aa92b345b0",
   "metadata": {},
   "outputs": [],
   "source": []
  },
  {
   "cell_type": "code",
   "execution_count": null,
   "id": "e214d0a7-c092-4ce7-8513-5a1ffe6fd69c",
   "metadata": {},
   "outputs": [],
   "source": []
  },
  {
   "cell_type": "code",
   "execution_count": null,
   "id": "04701129-12b7-44d1-ba2a-159c2671e415",
   "metadata": {},
   "outputs": [],
   "source": []
  },
  {
   "cell_type": "code",
   "execution_count": null,
   "id": "8d1143e6-7da4-4698-a92c-33108fb9188d",
   "metadata": {},
   "outputs": [],
   "source": []
  },
  {
   "cell_type": "code",
   "execution_count": null,
   "id": "e42cae5a-3231-46a4-8104-26b7d0b2b90e",
   "metadata": {},
   "outputs": [],
   "source": []
  },
  {
   "cell_type": "code",
   "execution_count": null,
   "id": "75ed8b4e-9a90-4170-8fb8-6fa35758d397",
   "metadata": {},
   "outputs": [],
   "source": []
  },
  {
   "cell_type": "code",
   "execution_count": 27,
   "id": "4b19a77a-c114-4e5f-9d5e-26062a23a897",
   "metadata": {},
   "outputs": [
    {
     "data": {
      "text/plain": [
       "''"
      ]
     },
     "execution_count": 27,
     "metadata": {},
     "output_type": "execute_result"
    }
   ],
   "source": []
  },
  {
   "cell_type": "code",
   "execution_count": null,
   "id": "3ad392d4-3d8a-43cc-a2ef-8e9bd1e09b40",
   "metadata": {},
   "outputs": [],
   "source": []
  },
  {
   "cell_type": "code",
   "execution_count": null,
   "id": "217c3ed9-156b-48d6-b642-d8aae5cd66ac",
   "metadata": {},
   "outputs": [],
   "source": []
  },
  {
   "cell_type": "code",
   "execution_count": null,
   "id": "007a8856-9ccc-4c1e-8a4a-2e31cb54323d",
   "metadata": {},
   "outputs": [],
   "source": []
  },
  {
   "cell_type": "code",
   "execution_count": null,
   "id": "e99c5623-ef52-486d-a715-eaed1441b611",
   "metadata": {},
   "outputs": [],
   "source": []
  },
  {
   "cell_type": "code",
   "execution_count": null,
   "id": "00e5c0a3-5e01-49e6-97bf-ebd82a6de827",
   "metadata": {},
   "outputs": [],
   "source": []
  },
  {
   "cell_type": "code",
   "execution_count": null,
   "id": "f7a9ef38-2241-4a60-aded-f9ae58c01172",
   "metadata": {},
   "outputs": [],
   "source": []
  },
  {
   "cell_type": "code",
   "execution_count": null,
   "id": "4daa91c0-e549-49ba-a6c5-390af74102b6",
   "metadata": {},
   "outputs": [],
   "source": []
  },
  {
   "cell_type": "code",
   "execution_count": null,
   "id": "4467877b-2c83-49a2-a4dc-c411fc947841",
   "metadata": {},
   "outputs": [],
   "source": []
  },
  {
   "cell_type": "code",
   "execution_count": null,
   "id": "a3c3f4c7-9ca1-4ae5-b04f-fa900d91eb89",
   "metadata": {},
   "outputs": [],
   "source": []
  },
  {
   "cell_type": "code",
   "execution_count": null,
   "id": "d5efd0e2-5a63-4c21-85ed-1c61f7515218",
   "metadata": {},
   "outputs": [],
   "source": []
  },
  {
   "cell_type": "code",
   "execution_count": null,
   "id": "720ec867-20a2-4622-9834-088deb6a2fbc",
   "metadata": {},
   "outputs": [],
   "source": []
  },
  {
   "cell_type": "code",
   "execution_count": null,
   "id": "3364f28c-ebe8-4a61-af5d-a2a648511d5a",
   "metadata": {},
   "outputs": [],
   "source": []
  },
  {
   "cell_type": "code",
   "execution_count": null,
   "id": "a05929af-c2f6-4371-abf9-0a724eb8645d",
   "metadata": {},
   "outputs": [],
   "source": []
  },
  {
   "cell_type": "code",
   "execution_count": null,
   "id": "64bc096f-6dd6-4a36-8883-ab3a2d702435",
   "metadata": {},
   "outputs": [],
   "source": []
  },
  {
   "cell_type": "code",
   "execution_count": null,
   "id": "b187006d-4977-495a-b205-4fca269e2ddc",
   "metadata": {},
   "outputs": [],
   "source": []
  },
  {
   "cell_type": "code",
   "execution_count": null,
   "id": "49f25bd1-c90f-4cf0-9304-b14e57cb0c14",
   "metadata": {},
   "outputs": [],
   "source": []
  },
  {
   "cell_type": "code",
   "execution_count": null,
   "id": "e1a754e7-5c3b-4586-b49e-3e97d67323d5",
   "metadata": {},
   "outputs": [],
   "source": []
  },
  {
   "cell_type": "code",
   "execution_count": null,
   "id": "1fb1464a-daf2-40a4-9363-7d141e7156f1",
   "metadata": {},
   "outputs": [],
   "source": []
  },
  {
   "cell_type": "code",
   "execution_count": null,
   "id": "664298f7-16f3-45bb-83a9-ed2e8dbc950f",
   "metadata": {},
   "outputs": [],
   "source": []
  },
  {
   "cell_type": "code",
   "execution_count": null,
   "id": "03fd7cb8-8219-46bb-b08b-d84fe37a8ce3",
   "metadata": {},
   "outputs": [],
   "source": []
  },
  {
   "cell_type": "raw",
   "id": "f2329afa-7e80-4654-bbee-ca223e8a10d5",
   "metadata": {},
   "source": []
  },
  {
   "cell_type": "raw",
   "id": "8902acd3-307f-4f3b-8810-d86ba7ba1222",
   "metadata": {},
   "source": []
  },
  {
   "cell_type": "code",
   "execution_count": null,
   "id": "476ae27a-4914-4a7e-89df-834eb9e1d6a7",
   "metadata": {},
   "outputs": [],
   "source": []
  },
  {
   "cell_type": "code",
   "execution_count": null,
   "id": "ac5afa35-6f1a-469f-b96a-d31c78cd111e",
   "metadata": {},
   "outputs": [],
   "source": []
  },
  {
   "cell_type": "code",
   "execution_count": null,
   "id": "7e21d8e8-b4d1-4584-b121-f571abc5d8b3",
   "metadata": {},
   "outputs": [],
   "source": []
  },
  {
   "cell_type": "code",
   "execution_count": null,
   "id": "87eadbd9-2c0e-480a-b9bf-07ed57f939ad",
   "metadata": {},
   "outputs": [],
   "source": []
  },
  {
   "cell_type": "code",
   "execution_count": null,
   "id": "7f52a3fa-020e-4998-9bc4-502720eedd2d",
   "metadata": {},
   "outputs": [],
   "source": []
  },
  {
   "cell_type": "code",
   "execution_count": null,
   "id": "0f7b2c34-55f4-416a-a34d-c398b03d339f",
   "metadata": {},
   "outputs": [],
   "source": []
  },
  {
   "cell_type": "code",
   "execution_count": null,
   "id": "72f3e9b9-6d3a-4da9-908a-76bb7a1ac18d",
   "metadata": {},
   "outputs": [],
   "source": []
  }
 ],
 "metadata": {
  "kernelspec": {
   "display_name": "Python 3 (ipykernel)",
   "language": "python",
   "name": "python3"
  },
  "language_info": {
   "codemirror_mode": {
    "name": "ipython",
    "version": 3
   },
   "file_extension": ".py",
   "mimetype": "text/x-python",
   "name": "python",
   "nbconvert_exporter": "python",
   "pygments_lexer": "ipython3",
   "version": "3.12.7"
  }
 },
 "nbformat": 4,
 "nbformat_minor": 5
}
